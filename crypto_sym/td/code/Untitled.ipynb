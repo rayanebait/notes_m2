{
 "cells": [
  {
   "cell_type": "code",
   "execution_count": 46,
   "id": "393ae754",
   "metadata": {
    "scrolled": false
   },
   "outputs": [
    {
     "name": "stdout",
     "output_type": "stream",
     "text": [
      "0.13348376433140238\n",
      "[[0.7078609817371457, 0.0, 0.13348376433140238, 0.0], [0.8413447460685483, 0.7078609817371457, 0.15865525393145752, 0.13348376433140238], [0.13348376433140238, 0.0, 0.7078609817371457, 0.0], [0.15865525393145752, 0.13348376433140238, 0.8413447460685483, 0.7078609817371457]]\n"
     ]
    }
   ],
   "source": [
    "#q aire symétrique\n",
    "from sage.coding.code_bounds import entropy\n",
    "\n",
    "#a refaire en prenant\n",
    "#input = 0,1,2,3 for ex with the binary repr in R^2: 0:(-1,1), (1,1), (-1,-1), (1,-1)\n",
    "def QAM_gauss_proba(input = (-1,1), output = (-1,1),\\\n",
    "                    mapping={(-1,1):(-1,1), (1,1):(1,1), (-1,-1):(-1,-1),(1,-1):(1,-1)}, std_deviation = 1):\n",
    "    \n",
    "    input = mapping[input]\n",
    "    \n",
    "    s = std_deviation\n",
    "    interval = {-1:(-oo,0), 1:(0, oo)}\n",
    "    p = float( numerical_integral(lambda x:\\\n",
    "                                 exp( -(1/(2*s^2))*((x-input[0])**2)),\\\n",
    "                                 interval[output[0]][0], interval[input[0]][1])[0] )*\\\n",
    "            float( numerical_integral(lambda x:\\\n",
    "                                     exp( -(1/(2*s^2))*((x-input[1])**2)),\\\n",
    "                                     interval[output[1]][0], interval[output[1]][1])[0]/(2*pi*s) )\n",
    "    return p\n",
    "\n",
    "def QAM_gauss_transition(mapping={(-1,1):(-1,1), (1,1):(1,1), (-1,-1):(-1,-1),(1,-1):(1,-1)}, std_deviation = 1):\n",
    "    transition = []\n",
    "    i=0\n",
    "    for inp in mapping:\n",
    "        transition.append([])\n",
    "        for output in mapping:\n",
    "            transition[i].append(QAM_gauss_proba(inp, output, mapping, std_deviation))\n",
    "        i+=1\n",
    "        \n",
    "    return transition\n",
    "\n",
    "#les autres questions sont des calculs directs\n",
    "#pour un canal 4QAM \n",
    "#L'esperence du nombre d'erreurs c'est la somme des différences entre symbole de départ et symbole d'arrivée\n",
    "#moins la proba d'avoirce couple.\n",
    "\n",
    "#def QAM_gauss_err_E(mapping={0:0, 3;1, 2:2, 1:3}):\n",
    "    \n",
    "    \n",
    "print(QAM_gauss_proba((-1,-1)))\n",
    "print(QAM_gauss_transition())"
   ]
  },
  {
   "cell_type": "code",
   "execution_count": null,
   "id": "8553b163",
   "metadata": {},
   "outputs": [],
   "source": []
  },
  {
   "cell_type": "code",
   "execution_count": null,
   "id": "93963f5c",
   "metadata": {},
   "outputs": [],
   "source": []
  },
  {
   "cell_type": "code",
   "execution_count": null,
   "id": "91120d4c",
   "metadata": {},
   "outputs": [],
   "source": []
  }
 ],
 "metadata": {
  "kernelspec": {
   "display_name": "SageMath 9.5",
   "language": "sage",
   "name": "sagemath"
  },
  "language_info": {
   "codemirror_mode": {
    "name": "ipython",
    "version": 3
   },
   "file_extension": ".py",
   "mimetype": "text/x-python",
   "name": "python",
   "nbconvert_exporter": "python",
   "pygments_lexer": "ipython3",
   "version": "3.10.12"
  }
 },
 "nbformat": 4,
 "nbformat_minor": 5
}
