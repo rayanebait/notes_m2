{
 "cells": [
  {
   "cell_type": "code",
   "execution_count": 2,
   "id": "26c1232e",
   "metadata": {},
   "outputs": [
    {
     "name": "stdout",
     "output_type": "stream",
     "text": [
      "[[(-1, 1), (1, 1), (-1, -1), (1, -1)], [(-1, 1), (1, 1), (-1, -1), (1, -1)], [(-1, 1), (1, 1), (-1, -1), (1, -1)], [(-1, 1), (1, 1), (-1, -1), (1, -1)]]\n"
     ]
    }
   ],
   "source": [
    "from sage.calculus.integration import numerical_integral\n",
    "from sage.rings.infinity import minus_infinity, infinity\n",
    "def QAM_prob(\\\n",
    "        input = (-1,1),\\\n",
    "        output = (-1,1),\\\n",
    "        mapping={(-1, 1):(-1,1), (1,1):(1,1), (-1,-1):(-1,-1), (1, -1):(1,-1)}\\\n",
    "):\n",
    "    interval={(-1, 1):((-oo, 0), (0, oo)), (1,1):(1,1), (-1,-1):(-1,-1), (1, -1):(1,-1)}\\\n",
    "    a=0\n",
    "\n",
    "def QAM_transition(\\\n",
    "        mapping={(-1, 1):(-1,1), (1,1):(1,1), (-1,-1):(-1,-1), (1, -1):(1,-1)}\\\n",
    "    ):\n",
    "\n",
    "    transition = []\n",
    "    i=0\n",
    "    for inp in mapping :\n",
    "        transition.append([])\n",
    "        for output in mapping : \n",
    "            transition[i].append(QAM_prob(input, mapping[output],mapping))\n",
    "        i+=1\n",
    "    return transition\n",
    "\n",
    "if __name__==\"__main__\":\n",
    "    print(QAM_transition())"
   ]
  },
  {
   "cell_type": "code",
   "execution_count": null,
   "id": "29e1750b",
   "metadata": {},
   "outputs": [],
   "source": []
  }
 ],
 "metadata": {
  "kernelspec": {
   "display_name": "Python 3 (ipykernel)",
   "language": "python",
   "name": "python3"
  },
  "language_info": {
   "codemirror_mode": {
    "name": "ipython",
    "version": 3
   },
   "file_extension": ".py",
   "mimetype": "text/x-python",
   "name": "python",
   "nbconvert_exporter": "python",
   "pygments_lexer": "ipython3",
   "version": "3.10.12"
  }
 },
 "nbformat": 4,
 "nbformat_minor": 5
}
