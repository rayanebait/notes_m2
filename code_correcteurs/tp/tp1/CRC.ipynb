{
 "cells": [
  {
   "cell_type": "code",
   "execution_count": 1,
   "id": "77eee831",
   "metadata": {},
   "outputs": [
    {
     "name": "stdout",
     "output_type": "stream",
     "text": [
      "['0x11', '0x11', '0x28', '0xea', '0xff', '0xd7', '0x8e', '0x89', '0xed']\n"
     ]
    }
   ],
   "source": [
    "# TD2 exercice 1 (CRC)\n",
    "\n",
    "def CRC32(message):\n",
    "    poly = 0b00000100110000010001110110110111 # Polynôme P sans le coefficient du monôme X^32\n",
    "    register = 0x00000000 # valeur initiale = 4 octets à 0 (parfois le vecteur tout à 1)\n",
    "    mask = 0x80000000 # mask pour lire le bit de poids fort de registre\n",
    "    for byte in message:\n",
    "        cursor = 0b10000000\n",
    "        while cursor > 1:\n",
    "            strong_bit_reg = register & mask\n",
    "            register <<= 1\n",
    "            if ( (1 if (byte & cursor) > 1 else 0) ^^ (1 if strong_bit_reg > 1 else 0) ):\n",
    "                register = register ^^ poly #in sage, xor is ^^\n",
    "            cursor >>= 1\n",
    "            \n",
    "    #conversion du registre en byte array\n",
    "    register_bytes = [0,0,0,0]\n",
    "    for i in range(4):\n",
    "        register_bytes[i] = (register >> (8*(3-i))) % 256\n",
    "        \n",
    "    return bytes(register_bytes)\n",
    "\n",
    "m = bytes([0x11, 0x11, 0x28, 0xea, 0xff])\n",
    "print([hex(x) for x in m+CRC32(m)])"
   ]
  }
 ],
 "metadata": {
  "kernelspec": {
   "display_name": "SageMath 9.5",
   "language": "sage",
   "name": "sagemath"
  },
  "language_info": {
   "codemirror_mode": {
    "name": "ipython",
    "version": 3
   },
   "file_extension": ".py",
   "mimetype": "text/x-python",
   "name": "python",
   "nbconvert_exporter": "python",
   "pygments_lexer": "ipython3",
   "version": "3.10.12"
  }
 },
 "nbformat": 4,
 "nbformat_minor": 5
}
