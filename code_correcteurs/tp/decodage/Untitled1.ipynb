{
 "cells": [
  {
   "cell_type": "code",
   "execution_count": 4,
   "id": "001b070d",
   "metadata": {},
   "outputs": [
    {
     "name": "stdout",
     "output_type": "stream",
     "text": [
      "2.2005572887658\n"
     ]
    }
   ],
   "source": [
    "from sage.coding.code_bounds import entropy, entropy_inverse\n",
    "\n",
    "\n",
    "def submatrix(H, I, J):\n",
    "    return H[I, J]\n",
    "\n",
    "#H.matrix_from_column()\n",
    "\n",
    "def Prange(H, s, t, n, k):\n",
    "    \n",
    "    subset = Subsets([i for i in range(1, n+1)], n-k)\n",
    "    while True :\n",
    "        J=subset.random_element()\n",
    "        #H_J = submatrix(H, range(n), J)\n",
    "        H_J=H.matrix_from_columns(J)\n",
    "        try:\n",
    "            #verification de si [1,n]\\J est un ens d'info\n",
    "            H_J_inv = H_J^(-1)\n",
    "            #H_J_inv=H_J.inverse()\n",
    "        except:\n",
    "            continue\n",
    "        s_prim=H_J_inv*s\n",
    "\n",
    "        if s_prim.hamming_weight() == t :\n",
    "            print(s_prim)\n",
    "            break\n",
    "    \n",
    "    e=[0]*n\n",
    "    for j in J:\n",
    "        e[j]=s_prim[j]\n",
    "    \n",
    "    return e\n",
    "            \n",
    "        \n",
    "\n",
    "\n",
    "print(n*entropy_inverse(1-k/n,q))\n",
    "\n"
   ]
  },
  {
   "cell_type": "code",
   "execution_count": 6,
   "id": "61b12ecc",
   "metadata": {},
   "outputs": [
    {
     "ename": "AttributeError",
     "evalue": "'function' object has no attribute 'shuffle'",
     "output_type": "error",
     "traceback": [
      "\u001b[0;31m---------------------------------------------------------------------------\u001b[0m",
      "\u001b[0;31mAttributeError\u001b[0m                            Traceback (most recent call last)",
      "\u001b[0;32m/tmp/ipykernel_63922/3931932960.py\u001b[0m in \u001b[0;36m<module>\u001b[0;34m\u001b[0m\n\u001b[1;32m     18\u001b[0m \u001b[0mnb_tests\u001b[0m \u001b[0;34m=\u001b[0m \u001b[0mInteger\u001b[0m\u001b[0;34m(\u001b[0m\u001b[0;36m10\u001b[0m\u001b[0;34m)\u001b[0m\u001b[0;34m\u001b[0m\u001b[0;34m\u001b[0m\u001b[0m\n\u001b[1;32m     19\u001b[0m \u001b[0;32mfor\u001b[0m \u001b[0mi\u001b[0m \u001b[0;32min\u001b[0m \u001b[0mrange\u001b[0m\u001b[0;34m(\u001b[0m\u001b[0mnb_tests\u001b[0m\u001b[0;34m)\u001b[0m\u001b[0;34m:\u001b[0m\u001b[0;34m\u001b[0m\u001b[0;34m\u001b[0m\u001b[0m\n\u001b[0;32m---> 20\u001b[0;31m     \u001b[0mrandom\u001b[0m\u001b[0;34m.\u001b[0m\u001b[0mshuffle\u001b[0m\u001b[0;34m(\u001b[0m\u001b[0me_tab\u001b[0m\u001b[0;34m)\u001b[0m\u001b[0;34m\u001b[0m\u001b[0;34m\u001b[0m\u001b[0m\n\u001b[0m\u001b[1;32m     21\u001b[0m     \u001b[0me\u001b[0m \u001b[0;34m=\u001b[0m \u001b[0mvector\u001b[0m\u001b[0;34m(\u001b[0m\u001b[0mGF\u001b[0m\u001b[0;34m(\u001b[0m\u001b[0mq\u001b[0m\u001b[0;34m)\u001b[0m\u001b[0;34m,\u001b[0m\u001b[0me_tab\u001b[0m\u001b[0;34m)\u001b[0m\u001b[0;34m\u001b[0m\u001b[0;34m\u001b[0m\u001b[0m\n\u001b[1;32m     22\u001b[0m     \u001b[0mH\u001b[0m \u001b[0;34m=\u001b[0m \u001b[0mmspace\u001b[0m\u001b[0;34m.\u001b[0m\u001b[0mrandom_element\u001b[0m\u001b[0;34m(\u001b[0m\u001b[0;34m)\u001b[0m\u001b[0;34m\u001b[0m\u001b[0;34m\u001b[0m\u001b[0m\n",
      "\u001b[0;31mAttributeError\u001b[0m: 'function' object has no attribute 'shuffle'"
     ]
    }
   ],
   "source": [
    "#La solution est unique seulement quand t<=entropy..., borne de \n",
    "#gibert varshamov!\n",
    "\n",
    "q=2\n",
    "n=20\n",
    "k=10\n",
    "\n",
    "#print(n*entropy.inverse(1-k/n,q )), si t est plus grand pas possible \n",
    "#de décoder.\n",
    "\n",
    "t = floor(n*entropy_inverse(1-k/n, q))\n",
    "\n",
    "e_tab = [randrange(1,q) for i in range(t)]+[0]*(n-t)\n",
    "\n",
    "\n",
    "mspace = MatrixSpace(GF(2), n-k, n)\n",
    "\n",
    "nb_tests = 10\n",
    "for i in range(nb_tests):\n",
    "    random.shuffle(e_tab)\n",
    "    e = vector(GF(q),e_tab)\n",
    "    H = mspace.random_element()\n",
    "    print(Prange(H, s, t, n, k))\n",
    "\n"
   ]
  },
  {
   "cell_type": "code",
   "execution_count": null, 
   "id": "0d9e4bc2",
   "metadata": {},
   "outputs": [],
   "source": []
  }
 ],
 "metadata": {
  "kernelspec": {
   "display_name": "SageMath 9.5",
   "language": "sage",
   "name": "sagemath"
  },
  "language_info": {
   "codemirror_mode": {
    "name": "ipython",
    "version": 3
   },
   "file_extension": ".py",
   "mimetype": "text/x-python",
   "name": "python",
   "nbconvert_exporter": "python",
   "pygments_lexer": "ipython3",
   "version": "3.10.12"
  }
 },
 "nbformat": 4,
 "nbformat_minor": 5
}
