{
 "cells": [
  {
   "cell_type": "code",
   "execution_count": 10,
   "metadata": {},
   "outputs": [],
   "source": [
    "from sage.coding.code_bounds import entropy\n",
    "\n",
    "def entropy_inv(y, q):\n",
    "    if y < 0 or y > 1 :\n",
    "        print(\"impossible\")\n",
    "        return -1\n",
    "    if y == 0 :\n",
    "        return 0\n",
    "    if y == 1 :\n",
    "        return 1 - 1/q\n",
    "    x_pred = 0.5 - (1.0/(2.0*q))\n",
    "    while entropy(x_pred, q) - x_pred * log((q - 1.0) * (1.0 - x_pred) / x_pred, q) > y :\n",
    "        x_pred = x_pred / 2.0\n",
    "    \n",
    "    x = (y - entropy(x_pred, q))/log((q - 1.0) * (1.0 - x_pred) / x_pred, q) + x_pred\n",
    "    while abs(x_pred - x) > 0.00001 :\n",
    "        x_pred = x\n",
    "        x = (y - entropy(x_pred, q))/log((q - 1.0) * (1.0 - x_pred) / x_pred, q) + x_pred\n",
    "    return float(x)"
   ]
  },
  {
   "cell_type": "code",
   "execution_count": 32,
   "metadata": {},
   "outputs": [
    {
     "name": "stdout",
     "output_type": "stream",
     "text": [
      "mapping :\n",
      "[2 3]\n",
      "[0 1]\n",
      "\n",
      "transition :\n",
      "[0.707860981736997, 0.13348376433138823, 0.13348376433138823, 0.025171489600055073]\n",
      "[0.13348376433138823, 0.707860981736997, 0.025171489600055073, 0.13348376433138823]\n",
      "[0.13348376433138823, 0.025171489600055073, 0.707860981736997, 0.13348376433138823]\n",
      "[0.025171489600055073, 0.13348376433138823, 0.13348376433138823, 0.707860981736997]\n"
     ]
    }
   ],
   "source": [
    "sigma = 0.5 #écart type de la gaussienne selon x et y\n",
    "var = sigma*sigma\n",
    "m = 2\n",
    "q = 2^m\n",
    "\n",
    "\n",
    "mapping = matrix([[2, 1],\\\n",
    "                  [0, 3]])\n",
    "\n",
    "# mapping de Gray\n",
    "\n",
    "mapping = matrix([[2, 3],\\\n",
    "                  [0, 1]])\n",
    "\n",
    "\n",
    "print(\"mapping :\")\n",
    "print(mapping)\n",
    "print()\n",
    "\n",
    "transition = [[0 for i in range(q)] for j in range(q)]\n",
    "for x_i in range(2):\n",
    "    for y_i in range(2):\n",
    "        # cas 1\n",
    "        x_j, y_j = (0,0)\n",
    "        x_j_min, x_j_max = -oo, 0.5\n",
    "        y_j_min, y_j_max = -oo, 0.5\n",
    "        transition[mapping[x_i][y_i]][mapping[x_j][y_j]] = float(numerical_integral(lambda t : exp(((t - x_i)^2)/(-2*var)), x_j_min, x_j_max)[0] * numerical_integral(lambda t : exp(((t - y_i)^2)/(-2*var)), y_j_min, y_j_max)[0] / (2*pi*var))\n",
    "\n",
    "        # cas 2\n",
    "        x_j, y_j = (1,0)\n",
    "        x_j_min, x_j_max = 0.5, +oo\n",
    "        y_j_min, y_j_max = -oo, 0.5\n",
    "        transition[mapping[x_i][y_i]][mapping[x_j][y_j]] = float(numerical_integral(lambda t : exp(((t - x_i)^2)/(-2*var)), x_j_min, x_j_max)[0] * numerical_integral(lambda t : exp(((t - y_i)^2)/(-2*var)), y_j_min, y_j_max)[0] / (2*pi*var))\n",
    "\n",
    "        # cas 3\n",
    "        x_j, y_j = (0,1)\n",
    "        x_j_min, x_j_max = -oo, 0.5\n",
    "        y_j_min, y_j_max = 0.5, +oo\n",
    "        transition[mapping[x_i][y_i]][mapping[x_j][y_j]] = float(numerical_integral(lambda t : exp(((t - x_i)^2)/(-2*var)), x_j_min, x_j_max)[0] * numerical_integral(lambda t : exp(((t - y_i)^2)/(-2*var)), y_j_min, y_j_max)[0] / (2*pi*var))\n",
    "\n",
    "        # cas 4\n",
    "        x_j, y_j = (1,1)\n",
    "        x_j_min, x_j_max = 0.5, +oo\n",
    "        y_j_min, y_j_max = 0.5, +oo\n",
    "        transition[mapping[x_i][y_i]][mapping[x_j][y_j]] = float(numerical_integral(lambda t : exp(((t - x_i)^2)/(-2*var)), x_j_min, x_j_max)[0] * numerical_integral(lambda t : exp(((t - y_i)^2)/(-2*var)), y_j_min, y_j_max)[0] / (2*pi*var))\n",
    "\n",
    "print(\"transition :\")\n",
    "for line_transition in transition:\n",
    "    print(line_transition)"
   ]
  },
  {
   "cell_type": "code",
   "execution_count": 33,
   "metadata": {},
   "outputs": [
    {
     "name": "stdout",
     "output_type": "stream",
     "text": [
      "Capacité du canal QPSK =  0.368917232594362\n",
      "Distribution emission :  [0.250000000000000, 0.250000000000000, 0.250000000000000, 0.250000000000000]\n"
     ]
    }
   ],
   "source": [
    "# Capacité du canal 4-QAM = QPSK\n",
    "\n",
    "step = 0.05\n",
    "C_max = 0\n",
    "PX_max = [0.0]*4\n",
    "\n",
    "PX = [0.0]*4\n",
    "PX[0] = 0.0\n",
    "while PX[0] <= 1.0:\n",
    "    PX[1] = 0.0\n",
    "    while PX[1] <= 1.0 - PX[0]:\n",
    "        PX[2] = 0.0\n",
    "        while PX[2] <= 1.0 - PX[0] - PX[1]:\n",
    "            PX[3] = 1.0 - PX[0] - PX[1] - PX[2]\n",
    "            \n",
    "            PY = [0]*4\n",
    "            PY[0] = float(sum([PX[x] * transition[x][0] for x in range(4)]))\n",
    "            PY[1] = float(sum([PX[x] * transition[x][1] for x in range(4)]))\n",
    "            PY[2] = float(sum([PX[x] * transition[x][2] for x in range(4)]))\n",
    "            PY[3] = float(sum([PX[x] * transition[x][3] for x in range(4)]))\n",
    "            \n",
    "            HqY = -sum([(0 if PY[y] == 0 else float(PY[y] * log(PY[y], q))) for y in range(4)])\n",
    "            HqY_X = sum([-PX[x]*sum([(0 if transition[x][y] == 0 else float(transition[x][y] * log(transition[x][y], q))) for y in range(4)]) for x in range(4)])\n",
    "            C = HqY - HqY_X\n",
    "            if C > C_max:\n",
    "                C_max = C\n",
    "                PX_max[0] = PX[0]\n",
    "                PX_max[1] = PX[1]\n",
    "                PX_max[2] = PX[2]\n",
    "                PX_max[3] = PX[3]\n",
    "            PX[2] += step\n",
    "        PX[1] += step\n",
    "    PX[0] += step\n",
    "\n",
    "print(\"Capacité du canal QPSK = \", C_max)\n",
    "print(\"Distribution emission : \", PX_max)"
   ]
  },
  {
   "cell_type": "code",
   "execution_count": 34,
   "metadata": {},
   "outputs": [
    {
     "name": "stdout",
     "output_type": "stream",
     "text": [
      "Capacité du canal q-aire symétrique =  0.3327511297890273\n"
     ]
    }
   ],
   "source": [
    "# Capacité du canal QPSK vu comme un canal q-aire symétrique\n",
    "\n",
    "from sage.coding.code_bounds import entropy\n",
    "\n",
    "p = 1.0 - transition[0][0]\n",
    "Capacity = float(1.0 - entropy(p,q))\n",
    "print(\"Capacité du canal q-aire symétrique = \", Capacity)"
   ]
  },
  {
   "cell_type": "code",
   "execution_count": 35,
   "metadata": {},
   "outputs": [
    {
     "name": "stdout",
     "output_type": "stream",
     "text": [
      "taux d'erreur binaire :  0.15865525393144328\n",
      "capacité du canal binaire symétrique :  0.3689172325944913\n",
      "\n"
     ]
    }
   ],
   "source": [
    "# Capacité du canal QPSK vu comme un canal binaire symétrique\n",
    "\n",
    "# taux d'erreur binaire\n",
    "p_bsc = 0\n",
    "for i in range(q):\n",
    "    for j in range(q):\n",
    "        p_bsc += float(bin(i^^j).count(\"1\") * transition[i][j] * (1.0/q) / m) # P(i) = 1/q  et m = nb bits par symbole\n",
    "\n",
    "print(\"taux d'erreur binaire : \", p_bsc)\n",
    "print(\"capacité du canal binaire symétrique : \" , float(1 - entropy(p_bsc,2)))\n",
    "print()"
   ]
  },
  {
   "cell_type": "code",
   "execution_count": null,
   "metadata": {},
   "outputs": [],
   "source": []
  },
  {
   "cell_type": "code",
   "execution_count": 37,
   "metadata": {},
   "outputs": [
    {
     "name": "stdout",
     "output_type": "stream",
     "text": [
      "mapping :\n",
      "[ 0  1  2  3]\n",
      "[ 4  5  6  7]\n",
      "[ 8  9 10 11]\n",
      "[12 13 14 15]\n",
      "\n",
      "transition :\n",
      "0.708 0.132 0.001 0.000 0.132 0.025 0.000 0.000 0.001 0.000 0.000 0.000 0.000 0.000 0.000 0.000 \n",
      "0.133 0.574 0.132 0.001 0.025 0.107 0.025 0.000 0.000 0.001 0.000 0.000 0.000 0.000 0.000 0.000 \n",
      "0.001 0.132 0.574 0.133 0.000 0.025 0.107 0.025 0.000 0.000 0.001 0.000 0.000 0.000 0.000 0.000 \n",
      "0.000 0.001 0.132 0.708 0.000 0.000 0.025 0.132 0.000 0.000 0.000 0.001 0.000 0.000 0.000 0.000 \n",
      "0.133 0.025 0.000 0.000 0.574 0.107 0.001 0.000 0.132 0.025 0.000 0.000 0.001 0.000 0.000 0.000 \n",
      "0.025 0.108 0.025 0.000 0.108 0.466 0.107 0.001 0.025 0.107 0.025 0.000 0.000 0.001 0.000 0.000 \n",
      "0.000 0.025 0.108 0.025 0.001 0.107 0.466 0.108 0.000 0.025 0.107 0.025 0.000 0.000 0.001 0.000 \n",
      "0.000 0.000 0.025 0.133 0.000 0.001 0.107 0.574 0.000 0.000 0.025 0.132 0.000 0.000 0.000 0.001 \n",
      "0.001 0.000 0.000 0.000 0.132 0.025 0.000 0.000 0.574 0.107 0.001 0.000 0.133 0.025 0.000 0.000 \n",
      "0.000 0.001 0.000 0.000 0.025 0.107 0.025 0.000 0.108 0.466 0.107 0.001 0.025 0.108 0.025 0.000 \n",
      "0.000 0.000 0.001 0.000 0.000 0.025 0.107 0.025 0.001 0.107 0.466 0.108 0.000 0.025 0.108 0.025 \n",
      "0.000 0.000 0.000 0.001 0.000 0.000 0.025 0.132 0.000 0.001 0.107 0.574 0.000 0.000 0.025 0.133 \n",
      "0.000 0.000 0.000 0.000 0.001 0.000 0.000 0.000 0.132 0.025 0.000 0.000 0.708 0.132 0.001 0.000 \n",
      "0.000 0.000 0.000 0.000 0.000 0.001 0.000 0.000 0.025 0.107 0.025 0.000 0.133 0.574 0.132 0.001 \n",
      "0.000 0.000 0.000 0.000 0.000 0.000 0.001 0.000 0.000 0.025 0.107 0.025 0.001 0.132 0.574 0.133 \n",
      "0.000 0.000 0.000 0.000 0.000 0.000 0.000 0.001 0.000 0.000 0.025 0.132 0.000 0.001 0.132 0.708 \n",
      "\n"
     ]
    }
   ],
   "source": [
    "sigma = 0.5 #écart type de la gaussienne selon x et y\n",
    "var = sigma*sigma\n",
    "m = 4\n",
    "q = 2^m\n",
    "\n",
    "\n",
    "'''mapping = matrix([[0, 8, 10, 2],\\\n",
    "                  [4, 12, 14, 6],\n",
    "                  [5, 13, 15, 7],\n",
    "                  [1, 9, 11, 3]])'''\n",
    "mapping = matrix([[0, 1, 2, 3],\\\n",
    "                  [4, 5, 6, 7],\n",
    "                  [8, 9, 10, 11],\n",
    "                  [12, 13, 14, 15]])\n",
    "print(\"mapping :\")\n",
    "print(mapping)\n",
    "print()\n",
    "\n",
    "transition = [[0 for i in range(q)] for j in range(q)]\n",
    "for x_i in range(4):\n",
    "    for y_i in range(4):\n",
    "        for x_j in range(4):\n",
    "            for y_j in range(4):\n",
    "                if x_j == 0:\n",
    "                    x_j_min = -oo\n",
    "                    x_j_max = 0.5\n",
    "                if x_j in [1,2]:\n",
    "                    x_j_min = x_j - 0.5\n",
    "                    x_j_max = x_j + 0.5\n",
    "                if x_j == 3:\n",
    "                    x_j_min = 2.5\n",
    "                    x_j_max = +oo\n",
    "                    \n",
    "                if y_j == 0:\n",
    "                    y_j_min = -oo\n",
    "                    y_j_max = 0.5\n",
    "                if y_j in [1,2]:\n",
    "                    y_j_min = y_j - 0.5\n",
    "                    y_j_max = y_j + 0.5\n",
    "                if y_j == 3:\n",
    "                    y_j_min = 2.5\n",
    "                    y_j_max = +oo\n",
    "                \n",
    "                transition[mapping[x_i][y_i]][mapping[x_j][y_j]] = float(numerical_integral(lambda t : exp(((t - x_i)^2)/(-2*var)), x_j_min, x_j_max)[0] * numerical_integral(lambda t : exp(((t - y_i)^2)/(-2*var)), y_j_min, y_j_max)[0] / (2*pi*var))\n",
    "\n",
    "print(\"transition :\")\n",
    "for line_transition in transition:\n",
    "    for val in line_transition:\n",
    "        print(\"%.3f\" % round(val, 3), end=' ')\n",
    "    print()\n",
    "print()\n",
    "\n"
   ]
  },
  {
   "cell_type": "code",
   "execution_count": 40,
   "metadata": {},
   "outputs": [
    {
     "name": "stdout",
     "output_type": "stream",
     "text": [
      "taux d'erreur q-aire :  0.4193299101943123\n",
      "capacité du canal q-aire symétrique correspondant :  0.3451458471541585\n",
      "\n"
     ]
    }
   ],
   "source": [
    "# taux d'erreur q-aire\n",
    "p_sc = float(1 - sum([transition[i][i] for i in range(16)])/16)\n",
    "\n",
    "        \n",
    "print(\"taux d'erreur q-aire : \", p_sc)\n",
    "print(\"capacité du canal q-aire symétrique correspondant : \" , float(1 - entropy(p_sc,q)))\n",
    "print()"
   ]
  },
  {
   "cell_type": "code",
   "execution_count": 41,
   "metadata": {},
   "outputs": [
    {
     "name": "stdout",
     "output_type": "stream",
     "text": [
      "taux d'erreur binaire :  0.15831785108643281\n",
      "capacité du canal binaire symétrique correspondant :  0.3697299099118353\n",
      "\n"
     ]
    }
   ],
   "source": [
    "# taux d'erreur binaire\n",
    "p_bsc = 0\n",
    "for i in range(16):\n",
    "    for j in range(16):\n",
    "        p_bsc += float(bin(i^^j).count(\"1\") * transition[i][j] / 16)\n",
    "p_bsc = float(p_bsc/4)\n",
    "\n",
    "print(\"taux d'erreur binaire : \", p_bsc)\n",
    "print(\"capacité du canal binaire symétrique correspondant : \" , float(1 - entropy(p_bsc,2)))\n",
    "print()"
   ]
  },
  {
   "cell_type": "code",
   "execution_count": 43,
   "metadata": {},
   "outputs": [
    {
     "name": "stdout",
     "output_type": "stream",
     "text": [
      "Capacité du canal 16-QAM =  0.563350713883721\n",
      "[0.130000000000000, 0.05000000000000002, 0.05000000000000002, 0.130000000000000, 0.05000000000000002, 0.0200000000000000, 0.0200000000000000, 0.05000000000000002, 0.05000000000000002, 0.0200000000000000, 0.0200000000000000, 0.05000000000000002, 0.130000000000000, 0.05000000000000002, 0.05000000000000002, 0.130000000000000]\n"
     ]
    }
   ],
   "source": [
    "step = 0.01\n",
    "C_max = 0\n",
    "pX_max = [0]*q\n",
    "p0 = 0\n",
    "while p0 <= 0.25:\n",
    "    p1 = 0\n",
    "    while p1 <= 0.25 - p0:\n",
    "        p2 = float((1 - 4*p0 - 4*p1)/8)\n",
    "        \n",
    "        pX = [0]*16\n",
    "        for x in [1,2]:\n",
    "            for y in [1,2]:\n",
    "                pX[mapping[x][y]] = p0\n",
    "                \n",
    "        for x in [0,3]:\n",
    "            for y in [0,3]:\n",
    "                pX[mapping[x][y]] = p1\n",
    "        \n",
    "        for x in [1,2]:\n",
    "            for y in [0,3]:\n",
    "                pX[mapping[x][y]] = p2\n",
    "        for x in [0,3]:\n",
    "            for y in [1,2]:\n",
    "                pX[mapping[x][y]] = p2\n",
    "          \n",
    "        pY = [0]*q\n",
    "        for j in range(16):\n",
    "            pY[j] = float(sum([pX[i] * transition[i][j] for i in range(16)]))\n",
    "            \n",
    "        HqY = -sum([(0 if pY[j] == 0 else float(pY[j] * log(pY[j], 16))) for j in range(16)])\n",
    "        HqY_X = sum([-pX[i]*sum([(0 if transition[i][j] == 0 else float(transition[i][j] * log(transition[i][j], 16))) for j in range(16)]) for i in range(16)])\n",
    "        C = HqY - HqY_X\n",
    "        if C > C_max:\n",
    "            C_max = C\n",
    "            for i in range(16):\n",
    "                pX_max[i] = pX[i]\n",
    "        \n",
    "        \n",
    "        p1 += step\n",
    "    p0 += step\n",
    "\n",
    "print(\"Capacité du canal 16-QAM = \", C_max)\n",
    "print(pX_max)\n"
   ]
  },
  {
   "cell_type": "code",
   "execution_count": null,
   "metadata": {},
   "outputs": [],
   "source": []
  },
  {
   "cell_type": "code",
   "execution_count": null,
   "metadata": {},
   "outputs": [],
   "source": []
  }
 ],
 "metadata": {
  "kernelspec": {
   "display_name": "SageMath 9.5",
   "language": "sage",
   "name": "sagemath"
  },
  "language_info": {
   "codemirror_mode": {
    "name": "ipython",
    "version": 3
   },
   "file_extension": ".py",
   "mimetype": "text/x-python",
   "name": "python",
   "nbconvert_exporter": "python",
   "pygments_lexer": "ipython3",
   "version": "3.10.12"
  }
 },
 "nbformat": 4,
 "nbformat_minor": 4
}
